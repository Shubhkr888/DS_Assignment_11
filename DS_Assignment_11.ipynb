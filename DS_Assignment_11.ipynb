{
  "nbformat": 4,
  "nbformat_minor": 0,
  "metadata": {
    "colab": {
      "provenance": []
    },
    "kernelspec": {
      "name": "python3",
      "display_name": "Python 3"
    },
    "language_info": {
      "name": "python"
    }
  },
  "cells": [
    {
      "cell_type": "code",
      "execution_count": 1,
      "metadata": {
        "colab": {
          "base_uri": "https://localhost:8080/"
        },
        "id": "YX-SFPR4kjjX",
        "outputId": "5797f504-8c2b-409e-f595-e64c74df7a0b"
      },
      "outputs": [
        {
          "output_type": "stream",
          "name": "stdout",
          "text": [
            "2\n"
          ]
        }
      ],
      "source": [
        "#Question1\n",
        "def mySqrt(x):\n",
        "    if x == 0:\n",
        "        return 0\n",
        "\n",
        "    left, right = 1, x\n",
        "    while left <= right:\n",
        "        mid = left + (right - left) // 2\n",
        "        if mid * mid == x:\n",
        "            return mid\n",
        "        elif mid * mid < x:\n",
        "            left = mid + 1\n",
        "        else:\n",
        "            right = mid - 1\n",
        "\n",
        "    return right\n",
        "\n",
        "\n",
        "# Test the function\n",
        "print(mySqrt(4))  # Output: 2\n"
      ]
    },
    {
      "cell_type": "code",
      "source": [
        "#Question2\n",
        "def findPeakElement(nums):\n",
        "    left, right = 0, len(nums) - 1\n",
        "\n",
        "    while left < right:\n",
        "        mid = (left + right) // 2\n",
        "\n",
        "        if nums[mid] > nums[mid + 1]:\n",
        "            right = mid\n",
        "        else:\n",
        "            left = mid + 1\n",
        "\n",
        "    return left\n",
        "\n",
        "\n",
        "# Test the function\n",
        "nums1 = [1, 2, 3, 1]\n",
        "print(\"Index of a peak element in {}: \".format(nums1))\n",
        "print(findPeakElement(nums1))\n",
        "\n",
        "nums2 = [1, 2, 1, 3, 5, 6, 4]\n",
        "print(\"Index of a peak element in {}: \".format(nums2))\n",
        "print(findPeakElement(nums2))\n"
      ],
      "metadata": {
        "colab": {
          "base_uri": "https://localhost:8080/"
        },
        "id": "jPTTSzz5kxcO",
        "outputId": "be16e604-dd2d-4fea-f328-703c7355d4da"
      },
      "execution_count": 4,
      "outputs": [
        {
          "output_type": "stream",
          "name": "stdout",
          "text": [
            "Index of a peak element in [1, 2, 3, 1]: \n",
            "2\n",
            "Index of a peak element in [1, 2, 1, 3, 5, 6, 4]: \n",
            "5\n"
          ]
        }
      ]
    },
    {
      "cell_type": "code",
      "source": [
        "#Question3\n",
        "def missingNumber(nums):\n",
        "    missing = len(nums)\n",
        "\n",
        "    for i, num in enumerate(nums):\n",
        "        missing ^= i ^ num\n",
        "\n",
        "    return missing\n",
        "\n",
        "\n",
        "# Test the function\n",
        "nums1 = [3, 0, 1]\n",
        "print(\"Missing number in {}: \".format(nums1))\n",
        "print(missingNumber(nums1))\n",
        "\n",
        "nums2 = [0, 1]\n",
        "print(\"Missing number in {}: \".format(nums2))\n",
        "print(missingNumber(nums2))\n"
      ],
      "metadata": {
        "colab": {
          "base_uri": "https://localhost:8080/"
        },
        "id": "siEfO8t9kyeH",
        "outputId": "9843bcae-9db4-48d6-9e98-6fa19b132159"
      },
      "execution_count": 5,
      "outputs": [
        {
          "output_type": "stream",
          "name": "stdout",
          "text": [
            "Missing number in [3, 0, 1]: \n",
            "2\n",
            "Missing number in [0, 1]: \n",
            "2\n"
          ]
        }
      ]
    },
    {
      "cell_type": "code",
      "source": [
        "#Question4\n",
        "def findDuplicate(nums):\n",
        "    slow = nums[0]\n",
        "    fast = nums[0]\n",
        "\n",
        "    while True:\n",
        "        slow = nums[slow]\n",
        "        fast = nums[nums[fast]]\n",
        "        if slow == fast:\n",
        "            break\n",
        "\n",
        "    slow = nums[0]\n",
        "    while slow != fast:\n",
        "        slow = nums[slow]\n",
        "        fast = nums[fast]\n",
        "\n",
        "    return slow\n",
        "\n",
        "\n",
        "# Test the function\n",
        "nums1 = [1, 3, 4, 2, 2]\n",
        "print(\"Repeated number in {}: \".format(nums1))\n",
        "print(findDuplicate(nums1))\n",
        "\n",
        "nums2 = [3, 1, 3, 4, 2]\n",
        "print(\"Repeated number in {}: \".format(nums2))\n",
        "print(findDuplicate(nums2))\n"
      ],
      "metadata": {
        "colab": {
          "base_uri": "https://localhost:8080/"
        },
        "id": "p6ALF0zGkygh",
        "outputId": "1affbc16-38b4-4c18-9d5e-ce85418146d7"
      },
      "execution_count": 6,
      "outputs": [
        {
          "output_type": "stream",
          "name": "stdout",
          "text": [
            "Repeated number in [1, 3, 4, 2, 2]: \n",
            "2\n",
            "Repeated number in [3, 1, 3, 4, 2]: \n",
            "3\n"
          ]
        }
      ]
    },
    {
      "cell_type": "code",
      "source": [
        "#Question5\n",
        "def intersection(nums1, nums2):\n",
        "    set1 = set(nums1)\n",
        "    set2 = set(nums2)\n",
        "    intersection_set = set1 & set2\n",
        "    return list(intersection_set)\n",
        "\n",
        "\n",
        "# Test the function\n",
        "nums1 = [1, 2, 2, 1]\n",
        "nums2 = [2, 2]\n",
        "print(\"Intersection of {} and {}: \".format(nums1, nums2))\n",
        "print(intersection(nums1, nums2))\n",
        "\n",
        "nums3 = [4, 9, 5]\n",
        "nums4 = [9, 4, 9, 8, 4]\n",
        "print(\"Intersection of {} and {}: \".format(nums3, nums4))\n",
        "print(intersection(nums3, nums4))\n"
      ],
      "metadata": {
        "colab": {
          "base_uri": "https://localhost:8080/"
        },
        "id": "XTUxxsuykyi4",
        "outputId": "a434ff63-eb31-4ae8-dddb-33374110497c"
      },
      "execution_count": 7,
      "outputs": [
        {
          "output_type": "stream",
          "name": "stdout",
          "text": [
            "Intersection of [1, 2, 2, 1] and [2, 2]: \n",
            "[2]\n",
            "Intersection of [4, 9, 5] and [9, 4, 9, 8, 4]: \n",
            "[9, 4]\n"
          ]
        }
      ]
    },
    {
      "cell_type": "code",
      "source": [
        "#Question6\n",
        "def findMin(nums):\n",
        "    left, right = 0, len(nums) - 1\n",
        "\n",
        "    while left < right:\n",
        "        mid = (left + right) // 2\n",
        "\n",
        "        if nums[mid] > nums[right]:\n",
        "            left = mid + 1\n",
        "        else:\n",
        "            right = mid\n",
        "\n",
        "    return nums[left]\n",
        "\n",
        "\n",
        "# Test the function\n",
        "nums1 = [4, 5, 6, 7, 0, 1, 2]\n",
        "print(\"Minimum element in {}: \".format(nums1))\n",
        "print(findMin(nums1))\n",
        "\n",
        "nums2 = [0, 1, 2, 4, 5, 6, 7]\n",
        "print(\"Minimum element in {}: \".format(nums2))\n",
        "print(findMin(nums2))\n"
      ],
      "metadata": {
        "colab": {
          "base_uri": "https://localhost:8080/"
        },
        "id": "foBTuXIGkylb",
        "outputId": "90f83461-0581-48e8-9a69-f9bfe65a340e"
      },
      "execution_count": 8,
      "outputs": [
        {
          "output_type": "stream",
          "name": "stdout",
          "text": [
            "Minimum element in [4, 5, 6, 7, 0, 1, 2]: \n",
            "0\n",
            "Minimum element in [0, 1, 2, 4, 5, 6, 7]: \n",
            "0\n"
          ]
        }
      ]
    },
    {
      "cell_type": "code",
      "source": [
        "#Question7\n",
        "def searchRange(nums, target):\n",
        "    left = -1\n",
        "    right = -1\n",
        "\n",
        "    # Binary search for the leftmost occurrence\n",
        "    lo = 0\n",
        "    hi = len(nums) - 1\n",
        "    while lo <= hi:\n",
        "        mid = (lo + hi) // 2\n",
        "        if nums[mid] == target:\n",
        "            left = mid\n",
        "            hi = mid - 1\n",
        "        elif nums[mid] < target:\n",
        "            lo = mid + 1\n",
        "        else:\n",
        "            hi = mid - 1\n",
        "\n",
        "    # Binary search for the rightmost occurrence\n",
        "    lo = 0\n",
        "    hi = len(nums) - 1\n",
        "    while lo <= hi:\n",
        "        mid = (lo + hi) // 2\n",
        "        if nums[mid] == target:\n",
        "            right = mid\n",
        "            lo = mid + 1\n",
        "        elif nums[mid] < target:\n",
        "            lo = mid + 1\n",
        "        else:\n",
        "            hi = mid - 1\n",
        "\n",
        "    return [left, right]\n",
        "\n",
        "\n",
        "# Test the function\n",
        "nums1 = [5, 7, 7, 8, 8, 10]\n",
        "target1 = 8\n",
        "print(\"Range of {} in {}: \".format(target1, nums1))\n",
        "print(searchRange(nums1, target1))\n",
        "\n",
        "nums2 = [5, 7, 7, 8, 8, 10]\n",
        "target2 = 6\n",
        "print(\"Range of {} in {}: \".format(target2, nums2))\n",
        "print(searchRange(nums2, target2))\n"
      ],
      "metadata": {
        "colab": {
          "base_uri": "https://localhost:8080/"
        },
        "id": "-RpeWEOJkyn0",
        "outputId": "9260e574-21d5-4ddf-f078-b7ce738f00ca"
      },
      "execution_count": 9,
      "outputs": [
        {
          "output_type": "stream",
          "name": "stdout",
          "text": [
            "Range of 8 in [5, 7, 7, 8, 8, 10]: \n",
            "[3, 4]\n",
            "Range of 6 in [5, 7, 7, 8, 8, 10]: \n",
            "[-1, -1]\n"
          ]
        }
      ]
    },
    {
      "cell_type": "code",
      "source": [
        "#Question8\n",
        "def intersect(nums1, nums2):\n",
        "    freq = {}\n",
        "    for num in nums1:\n",
        "        freq[num] = freq.get(num, 0) + 1\n",
        "\n",
        "    intersection = []\n",
        "    for num in nums2:\n",
        "        if num in freq and freq[num] > 0:\n",
        "            intersection.append(num)\n",
        "            freq[num] -= 1\n",
        "\n",
        "    return intersection\n",
        "\n",
        "\n",
        "# Test the function\n",
        "nums1 = [1, 2, 2, 1]\n",
        "nums2 = [2, 2]\n",
        "print(\"Intersection of {} and {}: \".format(nums1, nums2))\n",
        "print(intersect(nums1, nums2))\n",
        "\n",
        "nums3 = [4, 9, 5]\n",
        "nums4 = [9, 4, 9, 8, 4]\n",
        "print(\"Intersection of {} and {}: \".format(nums3, nums4))\n",
        "print(intersect(nums3, nums4))\n"
      ],
      "metadata": {
        "colab": {
          "base_uri": "https://localhost:8080/"
        },
        "id": "sfOK3hlzkyqJ",
        "outputId": "77835c5d-ac36-40c7-db2a-c3aa832fbcae"
      },
      "execution_count": 10,
      "outputs": [
        {
          "output_type": "stream",
          "name": "stdout",
          "text": [
            "Intersection of [1, 2, 2, 1] and [2, 2]: \n",
            "[2, 2]\n",
            "Intersection of [4, 9, 5] and [9, 4, 9, 8, 4]: \n",
            "[9, 4]\n"
          ]
        }
      ]
    },
    {
      "cell_type": "code",
      "source": [],
      "metadata": {
        "id": "y8CtGQW5kytp"
      },
      "execution_count": null,
      "outputs": []
    }
  ]
}